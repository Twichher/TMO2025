{
 "cells": [
  {
   "cell_type": "code",
   "execution_count": 4,
   "metadata": {},
   "outputs": [],
   "source": [
    "import pandas as pd\n",
    "import matplotlib.pyplot as plt\n",
    "from sklearn.preprocessing import StandardScaler, LabelEncoder, OneHotEncoder"
   ]
  },
  {
   "cell_type": "code",
   "execution_count": 5,
   "metadata": {},
   "outputs": [],
   "source": [
    "df = pd.read_csv('heart.csv') "
   ]
  },
  {
   "cell_type": "code",
   "execution_count": 7,
   "metadata": {},
   "outputs": [
    {
     "name": "stdout",
     "output_type": "stream",
     "text": [
      "\n",
      "trestbps — среднее после масштабирования: -0.00, : 1.00\n"
     ]
    }
   ],
   "source": [
    "scale_feature = 'trestbps'             # артериальное давление в покое\n",
    "scaler = StandardScaler()\n",
    "df[f'{scale_feature}_scaled'] = scaler.fit_transform(df[[scale_feature]])\n",
    "\n",
    "print(f'\\n{scale_feature} — среднее после масштабирования: '\n",
    "      f'{df[f\"{scale_feature}_scaled\"].mean():.2f}, '\n",
    "      f': {df[f\"{scale_feature}_scaled\"].std(ddof=0):.2f}')"
   ]
  },
  {
   "cell_type": "code",
   "execution_count": 8,
   "metadata": {},
   "outputs": [
    {
     "name": "stdout",
     "output_type": "stream",
     "text": [
      "\n",
      "Частоты классов cp:\n",
      "cp\n",
      "0    497\n",
      "1    167\n",
      "2    284\n",
      "3     77\n",
      "Name: count, dtype: int64\n"
     ]
    }
   ],
   "source": [
    "cat_feature = 'cp'                     # тип боли в груди\n",
    "\n",
    "# 3а. Label Encoding\n",
    "le = LabelEncoder()\n",
    "df[f'{cat_feature}_label'] = le.fit_transform(df[cat_feature])\n",
    "\n",
    "# 3б. One-Hot Encoding\n",
    "ohe = OneHotEncoder(sparse_output=False, dtype=int, handle_unknown='ignore')\n",
    "ohe_array = ohe.fit_transform(df[[cat_feature]])\n",
    "ohe_cols = ohe.get_feature_names_out([cat_feature])     # например: ['cp_0', 'cp_1', 'cp_2', 'cp_3']\n",
    "df[ohe_cols] = ohe_array\n",
    "\n",
    "print(f'\\nЧастоты классов {cat_feature}:')\n",
    "print(df[cat_feature].value_counts().sort_index())\n"
   ]
  },
  {
   "cell_type": "code",
   "execution_count": 9,
   "metadata": {},
   "outputs": [
    {
     "data": {
      "image/png": "[encoded data removed]",
      "text/plain": [
       "<Figure size 600x400 with 1 Axes>"
      ]
     },
     "metadata": {},
     "output_type": "display_data"
    }
   ],
   "source": [
    "violin_feature = 'age'                 # можно заменить на любой числовой столбец\n",
    "\n",
    "plt.figure(figsize=(6, 4))\n",
    "plt.violinplot(df[violin_feature], showmeans=True)\n",
    "plt.title(f'Распределение {violin_feature} (violin plot)')\n",
    "plt.ylabel(violin_feature)\n",
    "plt.grid(axis='y', linestyle='--', alpha=0.4)\n",
    "plt.show()"
   ]
  },
  {
   "cell_type": "code",
   "execution_count": null,
   "metadata": {},
   "outputs": [],
   "source": [
    "#Violin-plot показывает, что возраст пациентов в основном сосредоточен между 45 и 65 годами, \n",
    "# с умеренно тяжёлым «хвостом» к старшему возрасту. Это следует учитывать, \n",
    "# если модель должна одинаково хорошо работать и для малых групп (например, \n",
    "# очень молодых пациентов)."
   ]
  },
  {
   "cell_type": "code",
   "execution_count": 10,
   "metadata": {},
   "outputs": [
    {
     "name": "stdout",
     "output_type": "stream",
     "text": [
      "\n",
      "Новые столбцы в датафрейме: ['trestbps_scaled', 'cp_label', 'cp_0', 'cp_1', 'cp_2', 'cp_3']\n",
      "\n",
      "Первые пять строк набора данных после всех преобразований:\n",
      "   age  sex  cp  trestbps  chol  fbs  restecg  thalach  exang  oldpeak  slope  \\\n",
      "0   52    1   0       125   212    0        1      168      0      1.0      2   \n",
      "1   53    1   0       140   203    1        0      155      1      3.1      0   \n",
      "2   70    1   0       145   174    0        1      125      1      2.6      0   \n",
      "3   61    1   0       148   203    0        1      161      0      0.0      2   \n",
      "4   62    0   0       138   294    1        1      106      0      1.9      1   \n",
      "\n",
      "   ca  thal  target  trestbps_scaled  cp_label  cp_0  cp_1  cp_2  cp_3  \n",
      "0   2     3       0        -0.377636         0     1     0     0     0  \n",
      "1   0     3       0         0.479107         0     1     0     0     0  \n",
      "2   0     3       0         0.764688         0     1     0     0     0  \n",
      "3   1     3       0         0.936037         0     1     0     0     0  \n",
      "4   3     2       0         0.364875         0     1     0     0     0  \n"
     ]
    }
   ],
   "source": [
    "print('\\nНовые столбцы в датафрейме:', \n",
    "      [f'{scale_feature}_scaled', f'{cat_feature}_label', *ohe_cols])\n",
    "\n",
    "print('\\nПервые пять строк набора данных после всех преобразований:')\n",
    "print(df.head())"
   ]
  },
  {
   "cell_type": "code",
   "execution_count": null,
   "metadata": {},
   "outputs": [],
   "source": [
    "#trestbps после нормировки сопоставим по масштабу с \n",
    "# другими числовыми признаками, что важно для алгоритмов, \n",
    "# чувствительных к размерностям.\n",
    "\n",
    "#Категориальный cp теперь представлен двумя версиями — порядковой (cp_label) \n",
    "# и one-hot; выбор зависит от модели."
   ]
  }
 ],
 "metadata": {
  "kernelspec": {
   "display_name": "myenv",
   "language": "python",
   "name": "python3"
  },
  "language_info": {
   "codemirror_mode": {
    "name": "ipython",
    "version": 3
   },
   "file_extension": ".py",
   "mimetype": "text/x-python",
   "name": "python",
   "nbconvert_exporter": "python",
   "pygments_lexer": "ipython3",
   "version": "3.12.7"
  }
 },
 "nbformat": 4,
 "nbformat_minor": 2
}
