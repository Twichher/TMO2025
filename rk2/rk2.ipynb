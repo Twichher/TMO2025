{
 "cells": [
  {
   "cell_type": "code",
   "execution_count": 2,
   "metadata": {},
   "outputs": [],
   "source": [
    "import pandas as pd\n",
    "import numpy as np\n",
    "from sklearn.model_selection import train_test_split\n",
    "from sklearn.preprocessing import StandardScaler, LabelEncoder\n",
    "from sklearn.pipeline import Pipeline\n",
    "from sklearn.metrics import accuracy_score, f1_score, classification_report\n",
    "from sklearn.linear_model import LogisticRegression\n",
    "from sklearn.ensemble import HistGradientBoostingClassifier\n",
    "from sklearn.impute import SimpleImputer\n",
    "import warnings\n",
    "\n",
    "warnings.filterwarnings(\"ignore\", category=FutureWarning)\n"
   ]
  },
  {
   "cell_type": "code",
   "execution_count": 3,
   "metadata": {},
   "outputs": [
    {
     "name": "stdout",
     "output_type": "stream",
     "text": [
      "Всего строк: 9564, столбцов: 50\n"
     ]
    }
   ],
   "source": [
    "df = pd.read_csv('cumulative.csv')\n",
    "print(f'Всего строк: {df.shape[0]}, столбцов: {df.shape[1]}')"
   ]
  },
  {
   "cell_type": "code",
   "execution_count": 4,
   "metadata": {},
   "outputs": [],
   "source": [
    "SAMPLE_SIZE = 500     # возьмём 500 случайных записей\n",
    "df = df.sample(n=SAMPLE_SIZE, random_state=42).reset_index(drop=True)\n",
    "\n",
    "TARGET = 'koi_disposition'   # 3 класса: CONFIRMED / FALSE POSITIVE / CANDIDATE\n",
    "y = df[TARGET]"
   ]
  },
  {
   "cell_type": "code",
   "execution_count": 5,
   "metadata": {},
   "outputs": [
    {
     "name": "stdout",
     "output_type": "stream",
     "text": [
      "Используем 43 числовых признаков.\n"
     ]
    }
   ],
   "source": [
    "drop_cols = ['rowid', 'kepid', 'kepoi_name', 'kepler_name',\n",
    "             TARGET, 'koi_pdisposition', 'koi_tce_delivname']\n",
    "X = df.drop(columns=[col for col in drop_cols if col in df.columns])\n",
    "\n",
    "numeric_cols = X.select_dtypes(include=[np.number]).columns\n",
    "X = X[numeric_cols]\n",
    "\n",
    "print(f'Используем {X.shape[1]} числовых признаков.')\n"
   ]
  },
  {
   "cell_type": "code",
   "execution_count": 6,
   "metadata": {},
   "outputs": [
    {
     "name": "stdout",
     "output_type": "stream",
     "text": [
      "Классы: {'CANDIDATE': np.int64(0), 'CONFIRMED': np.int64(1), 'FALSE POSITIVE': np.int64(2)}\n"
     ]
    }
   ],
   "source": [
    "le = LabelEncoder()\n",
    "y_enc = le.fit_transform(y)\n",
    "print('Классы:', dict(zip(le.classes_, le.transform(le.classes_))))\n"
   ]
  },
  {
   "cell_type": "code",
   "execution_count": 7,
   "metadata": {},
   "outputs": [],
   "source": [
    "X_train, X_test, y_train, y_test = train_test_split(\n",
    "    X, y_enc, test_size=0.2, random_state=42, stratify=y_enc\n",
    ")\n"
   ]
  },
  {
   "cell_type": "code",
   "execution_count": 8,
   "metadata": {},
   "outputs": [
    {
     "name": "stderr",
     "output_type": "stream",
     "text": [
      "/Users/vladflorinskij/Documents/6sem/ML_6sem/myenv/lib/python3.12/site-packages/sklearn/impute/_base.py:635: UserWarning: Skipping features without any observed values: ['koi_teq_err1' 'koi_teq_err2']. At least one non-missing value is needed for imputation with strategy='mean'.\n",
      "  warnings.warn(\n",
      "/Users/vladflorinskij/Documents/6sem/ML_6sem/myenv/lib/python3.12/site-packages/sklearn/impute/_base.py:635: UserWarning: Skipping features without any observed values: ['koi_teq_err1' 'koi_teq_err2']. At least one non-missing value is needed for imputation with strategy='mean'.\n",
      "  warnings.warn(\n"
     ]
    }
   ],
   "source": [
    "logreg_pipeline = Pipeline(steps=[\n",
    "    ('imputer', SimpleImputer(strategy='mean')),\n",
    "    ('scaler', StandardScaler()),\n",
    "    ('clf', LogisticRegression(max_iter=500, multi_class='multinomial',\n",
    "                               solver='lbfgs'))\n",
    "])\n",
    "\n",
    "logreg_pipeline.fit(X_train, y_train)\n",
    "y_pred_lr = logreg_pipeline.predict(X_test)\n"
   ]
  },
  {
   "cell_type": "code",
   "execution_count": 9,
   "metadata": {},
   "outputs": [
    {
     "name": "stderr",
     "output_type": "stream",
     "text": [
      "/Users/vladflorinskij/Documents/6sem/ML_6sem/myenv/lib/python3.12/site-packages/sklearn/impute/_base.py:635: UserWarning: Skipping features without any observed values: ['koi_teq_err1' 'koi_teq_err2']. At least one non-missing value is needed for imputation with strategy='mean'.\n",
      "  warnings.warn(\n",
      "/Users/vladflorinskij/Documents/6sem/ML_6sem/myenv/lib/python3.12/site-packages/sklearn/impute/_base.py:635: UserWarning: Skipping features without any observed values: ['koi_teq_err1' 'koi_teq_err2']. At least one non-missing value is needed for imputation with strategy='mean'.\n",
      "  warnings.warn(\n"
     ]
    }
   ],
   "source": [
    "gb_pipeline = Pipeline(steps=[\n",
    "    ('imputer', SimpleImputer(strategy='mean')),\n",
    "    ('clf', HistGradientBoostingClassifier(random_state=42))\n",
    "])\n",
    "\n",
    "gb_pipeline.fit(X_train, y_train)\n",
    "y_pred_gb = gb_pipeline.predict(X_test)\n"
   ]
  },
  {
   "cell_type": "code",
   "execution_count": 10,
   "metadata": {},
   "outputs": [
    {
     "name": "stdout",
     "output_type": "stream",
     "text": [
      "\n",
      "Логистическая регрессия\n",
      "----------------------------------------\n",
      "Accuracy :   0.860\n",
      "Macro-F1 :   0.814\n",
      "\n",
      "Градиентный бустинг\n",
      "----------------------------------------\n",
      "Accuracy :   0.880\n",
      "Macro-F1 :   0.839\n"
     ]
    }
   ],
   "source": [
    "def evaluate(y_true, y_pred, name='Модель'):\n",
    "    acc = accuracy_score(y_true, y_pred)\n",
    "    f1  = f1_score(y_true, y_pred, average='macro')\n",
    "    print(f'\\n{name}')\n",
    "    print('-'*40)\n",
    "    print(f'Accuracy : {acc:7.3f}')\n",
    "    print(f'Macro-F1 : {f1:7.3f}')\n",
    "    return acc, f1\n",
    "\n",
    "acc_lr, f1_lr = evaluate(y_test, y_pred_lr, 'Логистическая регрессия')\n",
    "acc_gb, f1_gb = evaluate(y_test, y_pred_gb, 'Градиентный бустинг')\n"
   ]
  },
  {
   "cell_type": "code",
   "execution_count": 11,
   "metadata": {},
   "outputs": [
    {
     "name": "stdout",
     "output_type": "stream",
     "text": [
      "\n",
      "Classification report (LogReg):\n",
      "                precision    recall  f1-score   support\n",
      "\n",
      "     CANDIDATE       0.74      0.61      0.67        23\n",
      "     CONFIRMED       0.78      0.88      0.82        24\n",
      "FALSE POSITIVE       0.94      0.96      0.95        53\n",
      "\n",
      "      accuracy                           0.86       100\n",
      "     macro avg       0.82      0.82      0.81       100\n",
      "  weighted avg       0.86      0.86      0.86       100\n",
      "\n",
      "\n",
      "Classification report (GradBoost):\n",
      "                precision    recall  f1-score   support\n",
      "\n",
      "     CANDIDATE       0.76      0.70      0.73        23\n",
      "     CONFIRMED       0.80      0.83      0.82        24\n",
      "FALSE POSITIVE       0.96      0.98      0.97        53\n",
      "\n",
      "      accuracy                           0.88       100\n",
      "     macro avg       0.84      0.84      0.84       100\n",
      "  weighted avg       0.88      0.88      0.88       100\n",
      "\n"
     ]
    }
   ],
   "source": [
    "print('\\nClassification report (LogReg):')\n",
    "print(classification_report(y_test, y_pred_lr, target_names=le.classes_))\n",
    "\n",
    "print('\\nClassification report (GradBoost):')\n",
    "print(classification_report(y_test, y_pred_gb, target_names=le.classes_))\n"
   ]
  },
  {
   "cell_type": "code",
   "execution_count": 12,
   "metadata": {},
   "outputs": [
    {
     "name": "stdout",
     "output_type": "stream",
     "text": [
      "\n",
      "============================================================\n",
      "ВЫВОДЫ:\n",
      "1. Accuracy показывает долю верных предсказаний, но чувствительна к перекосу классов;\n",
      "   Macro-F1 усредняет F1 по классам, сглаживая дисбаланс и оценивая качество\n",
      "   одновременно по полноте и точности для каждой категории.\n",
      "2. По Macro-F1 лучшей оказалась модель: **Градиентный бустинг** (0.839 против 0.814).\n",
      "3. Линейная модель быстрее обучается, но бустинг лучше уловил нелинейные зависимости в данных.\n",
      "============================================================\n"
     ]
    }
   ],
   "source": [
    "print('\\n' + '='*60)\n",
    "print('ВЫВОДЫ:')\n",
    "print('1. Accuracy показывает долю верных предсказаний, но чувствительна к перекосу классов;')\n",
    "print('   Macro-F1 усредняет F1 по классам, сглаживая дисбаланс и оценивая качество')\n",
    "print('   одновременно по полноте и точности для каждой категории.')\n",
    "better = 'Градиентный бустинг' if f1_gb > f1_lr else 'Логистическая регрессия'\n",
    "print(f'2. По Macro-F1 лучшей оказалась модель: **{better}** '\n",
    "      f'({max(f1_lr, f1_gb):.3f} против {min(f1_lr, f1_gb):.3f}).')\n",
    "print('3. Линейная модель быстрее обучается, но бустинг лучше '\n",
    "      'уловил нелинейные зависимости в данных.')\n",
    "print('='*60)"
   ]
  }
 ],
 "metadata": {
  "kernelspec": {
   "display_name": "myenv",
   "language": "python",
   "name": "python3"
  },
  "language_info": {
   "codemirror_mode": {
    "name": "ipython",
    "version": 3
   },
   "file_extension": ".py",
   "mimetype": "text/x-python",
   "name": "python",
   "nbconvert_exporter": "python",
   "pygments_lexer": "ipython3",
   "version": "3.12.7"
  }
 },
 "nbformat": 4,
 "nbformat_minor": 2
}
