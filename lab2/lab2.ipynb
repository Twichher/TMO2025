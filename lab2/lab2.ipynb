{
 "cells": [
  {
   "cell_type": "code",
   "execution_count": 1,
   "metadata": {},
   "outputs": [],
   "source": [
    "import numpy as np\n",
    "import pandas as pd\n",
    "import seaborn as sns\n",
    "import matplotlib.pyplot as plt\n",
    "from sklearn.preprocessing import MinMaxScaler\n",
    "%matplotlib inline "
   ]
  },
  {
   "cell_type": "code",
   "execution_count": 2,
   "metadata": {},
   "outputs": [],
   "source": [
    "data = pd.read_csv('cleaned_blood_type_distribution_by_country.csv', sep=\",\")\n"
   ]
  },
  {
   "cell_type": "code",
   "execution_count": 3,
   "metadata": {},
   "outputs": [
    {
     "data": {
      "text/html": [
       "<div>\n",
       "<style scoped>\n",
       "    .dataframe tbody tr th:only-of-type {\n",
       "        vertical-align: middle;\n",
       "    }\n",
       "\n",
       "    .dataframe tbody tr th {\n",
       "        vertical-align: top;\n",
       "    }\n",
       "\n",
       "    .dataframe thead th {\n",
       "        text-align: right;\n",
       "    }\n",
       "</style>\n",
       "<table border=\"1\" class=\"dataframe\">\n",
       "  <thead>\n",
       "    <tr style=\"text-align: right;\">\n",
       "      <th></th>\n",
       "      <th>Country/Dependency</th>\n",
       "      <th>Population</th>\n",
       "      <th>O+</th>\n",
       "      <th>A+</th>\n",
       "      <th>B+</th>\n",
       "      <th>AB+</th>\n",
       "      <th>O-</th>\n",
       "      <th>A-</th>\n",
       "      <th>B-</th>\n",
       "      <th>AB-</th>\n",
       "    </tr>\n",
       "  </thead>\n",
       "  <tbody>\n",
       "    <tr>\n",
       "      <th>0</th>\n",
       "      <td>Albania</td>\n",
       "      <td>3,074,579</td>\n",
       "      <td>34.10%</td>\n",
       "      <td>31.20%</td>\n",
       "      <td>14.50%</td>\n",
       "      <td>5.20%</td>\n",
       "      <td>6.00%</td>\n",
       "      <td>5.50%</td>\n",
       "      <td>2.60%</td>\n",
       "      <td>0.90%</td>\n",
       "    </tr>\n",
       "    <tr>\n",
       "      <th>1</th>\n",
       "      <td>Algeria</td>\n",
       "      <td>43,576,691</td>\n",
       "      <td>40.00%</td>\n",
       "      <td>30.00%</td>\n",
       "      <td>15.00%</td>\n",
       "      <td>4.25%</td>\n",
       "      <td>6.60%</td>\n",
       "      <td>2.30%</td>\n",
       "      <td>1.10%</td>\n",
       "      <td>0.75%</td>\n",
       "    </tr>\n",
       "    <tr>\n",
       "      <th>2</th>\n",
       "      <td>Argentina</td>\n",
       "      <td>45,479,118</td>\n",
       "      <td>50.34%</td>\n",
       "      <td>31.09%</td>\n",
       "      <td>8.20%</td>\n",
       "      <td>2.16%</td>\n",
       "      <td>4.29%</td>\n",
       "      <td>2.98%</td>\n",
       "      <td>0.74%</td>\n",
       "      <td>0.20%</td>\n",
       "    </tr>\n",
       "    <tr>\n",
       "      <th>3</th>\n",
       "      <td>Armenia</td>\n",
       "      <td>3,021,324</td>\n",
       "      <td>29.00%</td>\n",
       "      <td>46.30%</td>\n",
       "      <td>12.00%</td>\n",
       "      <td>5.60%</td>\n",
       "      <td>2.00%</td>\n",
       "      <td>3.70%</td>\n",
       "      <td>1.00%</td>\n",
       "      <td>0.40%</td>\n",
       "    </tr>\n",
       "    <tr>\n",
       "      <th>4</th>\n",
       "      <td>Australia</td>\n",
       "      <td>25,466,459</td>\n",
       "      <td>38.00%</td>\n",
       "      <td>32.00%</td>\n",
       "      <td>12.00%</td>\n",
       "      <td>4.00%</td>\n",
       "      <td>7.00%</td>\n",
       "      <td>6.00%</td>\n",
       "      <td>2.00%</td>\n",
       "      <td>1.00%</td>\n",
       "    </tr>\n",
       "  </tbody>\n",
       "</table>\n",
       "</div>"
      ],
      "text/plain": [
       "  Country/Dependency  Population      O+      A+      B+    AB+     O-     A-  \\\n",
       "0            Albania   3,074,579  34.10%  31.20%  14.50%  5.20%  6.00%  5.50%   \n",
       "1            Algeria  43,576,691  40.00%  30.00%  15.00%  4.25%  6.60%  2.30%   \n",
       "2          Argentina  45,479,118  50.34%  31.09%   8.20%  2.16%  4.29%  2.98%   \n",
       "3            Armenia   3,021,324  29.00%  46.30%  12.00%  5.60%  2.00%  3.70%   \n",
       "4          Australia  25,466,459  38.00%  32.00%  12.00%  4.00%  7.00%  6.00%   \n",
       "\n",
       "      B-    AB-  \n",
       "0  2.60%  0.90%  \n",
       "1  1.10%  0.75%  \n",
       "2  0.74%  0.20%  \n",
       "3  1.00%  0.40%  \n",
       "4  2.00%  1.00%  "
      ]
     },
     "execution_count": 3,
     "metadata": {},
     "output_type": "execute_result"
    }
   ],
   "source": [
    "data.head()\n"
   ]
  },
  {
   "cell_type": "code",
   "execution_count": 4,
   "metadata": {},
   "outputs": [
    {
     "name": "stdout",
     "output_type": "stream",
     "text": [
      "Всего строк: 126\n"
     ]
    }
   ],
   "source": [
    "total_count = data.shape[0]\n",
    "print('Всего строк: {}'.format(total_count))"
   ]
  },
  {
   "cell_type": "code",
   "execution_count": 5,
   "metadata": {},
   "outputs": [
    {
     "data": {
      "text/plain": [
       "Index(['Country/Dependency', 'Population', 'O+', 'A+', 'B+', 'AB+', 'O-', 'A-',\n",
       "       'B-', 'AB-'],\n",
       "      dtype='object')"
      ]
     },
     "execution_count": 5,
     "metadata": {},
     "output_type": "execute_result"
    }
   ],
   "source": [
    "data.columns"
   ]
  },
  {
   "cell_type": "code",
   "execution_count": 6,
   "metadata": {},
   "outputs": [
    {
     "name": "stdout",
     "output_type": "stream",
     "text": [
      "Country/Dependency    0\n",
      "Population            0\n",
      "O+                    0\n",
      "A+                    0\n",
      "B+                    0\n",
      "AB+                   1\n",
      "O-                    1\n",
      "A-                    1\n",
      "B-                    1\n",
      "AB-                   1\n",
      "dtype: int64\n"
     ]
    }
   ],
   "source": [
    "print(data.isnull().sum()) "
   ]
  },
  {
   "cell_type": "markdown",
   "metadata": {},
   "source": [
    "1)"
   ]
  },
  {
   "cell_type": "code",
   "execution_count": 7,
   "metadata": {},
   "outputs": [],
   "source": [
    "data_cleaned = data.dropna()"
   ]
  },
  {
   "cell_type": "code",
   "execution_count": 8,
   "metadata": {},
   "outputs": [
    {
     "name": "stdout",
     "output_type": "stream",
     "text": [
      "Country/Dependency    0\n",
      "Population            0\n",
      "O+                    0\n",
      "A+                    0\n",
      "B+                    0\n",
      "AB+                   0\n",
      "O-                    0\n",
      "A-                    0\n",
      "B-                    0\n",
      "AB-                   0\n",
      "dtype: int64\n"
     ]
    }
   ],
   "source": [
    "print(data_cleaned.isnull().sum()) "
   ]
  },
  {
   "cell_type": "markdown",
   "metadata": {},
   "source": [
    "2) модой возраст"
   ]
  },
  {
   "cell_type": "code",
   "execution_count": 12,
   "metadata": {},
   "outputs": [],
   "source": [
    "data['AB+'] = data['AB+'].fillna(data['A+'].mode()[0])  # Заполнение модой\n"
   ]
  },
  {
   "cell_type": "markdown",
   "metadata": {},
   "source": [
    "3)категориальные другие значения"
   ]
  },
  {
   "cell_type": "code",
   "execution_count": 10,
   "metadata": {},
   "outputs": [],
   "source": [
    "data['Country/Dependency'] = data['Country/Dependency'].fillna('Неизвестно')\n"
   ]
  },
  {
   "cell_type": "code",
   "execution_count": 11,
   "metadata": {},
   "outputs": [
    {
     "name": "stdout",
     "output_type": "stream",
     "text": [
      "   Population      O+      A+      B+    AB+     O-     A-     B-    AB-  \\\n",
      "0   3,074,579  34.10%  31.20%  14.50%  5.20%  6.00%  5.50%  2.60%  0.90%   \n",
      "1  43,576,691  40.00%  30.00%  15.00%  4.25%  6.60%  2.30%  1.10%  0.75%   \n",
      "2  45,479,118  50.34%  31.09%   8.20%  2.16%  4.29%  2.98%  0.74%  0.20%   \n",
      "3   3,021,324  29.00%  46.30%  12.00%  5.60%  2.00%  3.70%  1.00%  0.40%   \n",
      "4  25,466,459  38.00%  32.00%  12.00%  4.00%  7.00%  6.00%  2.00%  1.00%   \n",
      "\n",
      "   Country/Dependency_Algeria  ...  Country/Dependency_Ukraine  \\\n",
      "0                       False  ...                       False   \n",
      "1                        True  ...                       False   \n",
      "2                       False  ...                       False   \n",
      "3                       False  ...                       False   \n",
      "4                       False  ...                       False   \n",
      "\n",
      "   Country/Dependency_United Arab Emirates  Country/Dependency_United Kingdom  \\\n",
      "0                                    False                              False   \n",
      "1                                    False                              False   \n",
      "2                                    False                              False   \n",
      "3                                    False                              False   \n",
      "4                                    False                              False   \n",
      "\n",
      "   Country/Dependency_United States  Country/Dependency_Uzbekistan  \\\n",
      "0                             False                          False   \n",
      "1                             False                          False   \n",
      "2                             False                          False   \n",
      "3                             False                          False   \n",
      "4                             False                          False   \n",
      "\n",
      "   Country/Dependency_Venezuela  Country/Dependency_Vietnam  \\\n",
      "0                         False                       False   \n",
      "1                         False                       False   \n",
      "2                         False                       False   \n",
      "3                         False                       False   \n",
      "4                         False                       False   \n",
      "\n",
      "   Country/Dependency_World  Country/Dependency_Yemen  \\\n",
      "0                     False                     False   \n",
      "1                     False                     False   \n",
      "2                     False                     False   \n",
      "3                     False                     False   \n",
      "4                     False                     False   \n",
      "\n",
      "   Country/Dependency_Zimbabwe  \n",
      "0                        False  \n",
      "1                        False  \n",
      "2                        False  \n",
      "3                        False  \n",
      "4                        False  \n",
      "\n",
      "[5 rows x 134 columns]\n"
     ]
    }
   ],
   "source": [
    "# Использование get_dummies для преобразования категориальных признаков\n",
    "data = pd.get_dummies(data, columns=['Country/Dependency'], drop_first=True)\n",
    "\n",
    "print(data.head())"
   ]
  },
  {
   "cell_type": "code",
   "execution_count": null,
   "metadata": {},
   "outputs": [],
   "source": [
    "data_cleaned['O+'] = data['O+'].str.rstrip('%').astype(float) / 100"
   ]
  },
  {
   "cell_type": "code",
   "execution_count": 20,
   "metadata": {},
   "outputs": [],
   "source": [
    "data_cleaned['Population'] = data['Population'].str.replace(',', '').astype(float)"
   ]
  },
  {
   "cell_type": "code",
   "execution_count": 21,
   "metadata": {},
   "outputs": [],
   "source": [
    "scaler = MinMaxScaler()\n",
    "\n",
    "data_cleaned[['O+', 'Population']] = scaler.fit_transform(data_cleaned[['O+', 'Population']])\n"
   ]
  },
  {
   "cell_type": "code",
   "execution_count": 22,
   "metadata": {},
   "outputs": [
    {
     "name": "stdout",
     "output_type": "stream",
     "text": [
      "  Country/Dependency  Population        O+      A+      B+    AB+     O-  \\\n",
      "0            Albania    0.000391  0.147917  31.20%  14.50%  5.20%  6.00%   \n",
      "1            Algeria    0.005601  0.270833  30.00%  15.00%  4.25%  6.60%   \n",
      "2          Argentina    0.005846  0.486250  31.09%   8.20%  2.16%  4.29%   \n",
      "3            Armenia    0.000384  0.041667  46.30%  12.00%  5.60%  2.00%   \n",
      "4          Australia    0.003271  0.229167  32.00%  12.00%  4.00%  7.00%   \n",
      "\n",
      "      A-     B-    AB-  \n",
      "0  5.50%  2.60%  0.90%  \n",
      "1  2.30%  1.10%  0.75%  \n",
      "2  2.98%  0.74%  0.20%  \n",
      "3  3.70%  1.00%  0.40%  \n",
      "4  6.00%  2.00%  1.00%  \n"
     ]
    }
   ],
   "source": [
    "print(data_cleaned.head())"
   ]
  },
  {
   "cell_type": "code",
   "execution_count": 23,
   "metadata": {},
   "outputs": [
    {
     "data": {
      "image/png": "[encoded data removed]",
      "text/plain": [
       "<Figure size 640x480 with 1 Axes>"
      ]
     },
     "metadata": {},
     "output_type": "display_data"
    }
   ],
   "source": [
    "plt.hist(data['Population'], 50)\n",
    "plt.show()"
   ]
  }
 ],
 "metadata": {
  "kernelspec": {
   "display_name": "myenv",
   "language": "python",
   "name": "python3"
  },
  "language_info": {
   "codemirror_mode": {
    "name": "ipython",
    "version": 3
   },
   "file_extension": ".py",
   "mimetype": "text/x-python",
   "name": "python",
   "nbconvert_exporter": "python",
   "pygments_lexer": "ipython3",
   "version": "3.12.7"
  }
 },
 "nbformat": 4,
 "nbformat_minor": 2
}
